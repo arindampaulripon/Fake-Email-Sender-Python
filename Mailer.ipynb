{
 "cells": [
  {
   "cell_type": "code",
   "execution_count": 3,
   "metadata": {},
   "outputs": [
    {
     "name": "stderr",
     "output_type": "stream",
     "text": [
      "INFO:marrow.mailer:Mail delivery service starting.\n",
      "INFO:marrow.mailer.manager.futures:Futures delivery manager starting.\n",
      "INFO:marrow.mailer.manager.futures:Futures delivery manager ready.\n",
      "INFO:marrow.mailer:Mail delivery service started.\n",
      "INFO:marrow.mailer:Attempting delivery of message <151802660627.4956.7598654072353545096@DESKTOP-LA5VIG6>.\n",
      "INFO:marrow.mailer:Mail delivery service stopping.\n",
      "INFO:marrow.mailer.manager.futures:Futures delivery manager stopping.\n",
      "INFO:marrow.mailer.transport.smtp:Connecting to SMTP server secure195.servconfig.com:465\n",
      "INFO:marrow.mailer.transport.smtp:Authenticating as test@strategicformulation.net\n",
      "INFO:marrow.mailer.manager.futures:Futures delivery manager stopped.\n",
      "INFO:marrow.mailer:Mail delivery service stopped.\n"
     ]
    },
    {
     "data": {
      "text/plain": [
       "Mailer(manager=FuturesManager, transport=SMTPTransport)"
      ]
     },
     "execution_count": 3,
     "metadata": {},
     "output_type": "execute_result"
    }
   ],
   "source": [
    "import logging\n",
    "from marrow.mailer import Message, Mailer\n",
    "logging.basicConfig(level=logging.INFO)\n",
    "import unittest, time\n",
    "\n",
    "\n",
    "\n",
    "                       \n",
    "\n",
    "mail = Mailer({\n",
    "    'manager.use': 'futures',\n",
    "    'transport.use': 'smtp',\n",
    "    'transport.port': '465',\n",
    "    'transport.host': 'secure195.servconfig.com',\n",
    "    'transport.tls': 'ssl',\n",
    "    'transport.username': 'test@anydomain.net',\n",
    "    'transport.password': '123456789AR',\n",
    "    'transport.max_messages_per_connection': 5\n",
    "    })\n",
    "mail.start()\n",
    "#Place sender name and mail at first position and then place receiver's name and mail adress and run the code\n",
    "message = Message([('Qaiduzzaman Khandker M.','nafees.ku11@gmail.com')], [('Arindam Paul ', 'arindam017@gmail.com ')], \"Read\", plain=\"Check and make me confirm if you get any mail\")\n",
    "\n",
    "mail.send(message)\n",
    "mail.stop()"
   ]
  },
  {
   "cell_type": "code",
   "execution_count": null,
   "metadata": {
    "collapsed": true
   },
   "outputs": [],
   "source": [
    "class moduleName(unittest.TestCase):\n",
    "\n",
    "        \n",
    "    def test_Login(self):\n",
    "        driver=self.driver\n",
    "        driver.get(self.base_url +\"/\")\n",
    "        driver.maximize_window()\n",
    "        wb=xlrd.open_workbook('SHAIK_PROJ_4.xlsx')\n",
    "        sheetname = wb.sheet_names() \n",
    "        #Read for XLSX Sheet names\n",
    "        sh1 = wb.sheet_by_index(0) \n",
    "                        \n",
    "        i=0\n",
    "        while (i<2):\n",
    "            rownum=(i)\n",
    "            rows = sh1.row_values(rownum)\n",
    "            element = driver.find_element_by_id(\"gbqfq\")\n",
    "            driver.find_element_by_id(\"gbqfq\").send_keys(rows[0])        \n",
    "            element.submit()\n",
    "            time.sleep(3)\n",
    "            print (\"The keyword [\" + rows[0] + \"] is searched\")\n",
    "            driver.back()\n",
    "            time.sleep(3)\n",
    "            i=i+1"
   ]
  },
  {
   "cell_type": "code",
   "execution_count": null,
   "metadata": {
    "collapsed": true
   },
   "outputs": [],
   "source": []
  }
 ],
 "metadata": {
  "anaconda-cloud": {},
  "kernelspec": {
   "display_name": "Python 3",
   "language": "python",
   "name": "python3"
  },
  "language_info": {
   "codemirror_mode": {
    "name": "ipython",
    "version": 3
   },
   "file_extension": ".py",
   "mimetype": "text/x-python",
   "name": "python",
   "nbconvert_exporter": "python",
   "pygments_lexer": "ipython3",
   "version": "3.6.1"
  }
 },
 "nbformat": 4,
 "nbformat_minor": 1
}
